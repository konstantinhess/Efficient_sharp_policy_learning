{
 "cells": [
  {
   "metadata": {},
   "cell_type": "markdown",
   "source": "**Results for misspecified gamma experiments**",
   "id": "8197e81ec4eebfbd"
  },
  {
   "metadata": {
    "ExecuteTime": {
     "end_time": "2025-01-30T17:50:40.754673Z",
     "start_time": "2025-01-30T17:50:40.750921Z"
    }
   },
   "cell_type": "code",
   "source": [
    "import mlflow\n",
    "from mlflow.tracking import MlflowClient\n",
    "import pandas as pd"
   ],
   "id": "86fca06ed59e5226",
   "outputs": [],
   "execution_count": 389
  },
  {
   "metadata": {
    "ExecuteTime": {
     "end_time": "2025-01-30T17:50:41.832925Z",
     "start_time": "2025-01-30T17:50:41.755715Z"
    }
   },
   "cell_type": "code",
   "source": [
    "mlflow.set_tracking_uri('http://localhost:3336')\n",
    "client = MlflowClient()\n",
    "\n",
    "model_names = ['Efficient', 'DR']\n",
    "experiment_names = ['Synthetic_'+ model_name for model_name in model_names]\n",
    "experiments = {exp.name: exp.experiment_id for exp in client.search_experiments()}"
   ],
   "id": "81e56958d678d46d",
   "outputs": [],
   "execution_count": 390
  },
  {
   "metadata": {
    "ExecuteTime": {
     "end_time": "2025-01-30T17:50:44.624422Z",
     "start_time": "2025-01-30T17:50:42.987240Z"
    }
   },
   "cell_type": "code",
   "source": [
    "metric_names = ['regret']\n",
    "param_names = ['global_seed', 'gamma', 'gamma_data', 'n_samples_train']\n",
    "data_dict = {}\n",
    "\n",
    "for experiment_name in experiment_names:\n",
    "    if experiment_name in experiments:\n",
    "        experiment_id = experiments[experiment_name]\n",
    "        # Get all runs for the experiment\n",
    "        runs = client.search_runs(experiment_ids=[experiment_id])\n",
    "        # Extract metrics and parameters\n",
    "        runs_data = [\n",
    "            {\n",
    "                **run.data.metrics,\n",
    "                **run.data.params,\n",
    "                'run_id': run.info.run_id\n",
    "            }\n",
    "            for run in runs\n",
    "        ]\n",
    "        combined_df = pd.DataFrame(runs_data)\n",
    "        \n",
    "        if not combined_df.empty:\n",
    "            # Filter the DataFrame to only include the desired metrics and parameters\n",
    "            columns_to_include = ['run_id'] + metric_names + param_names\n",
    "            filtered_df = combined_df[columns_to_include]\n",
    "            data_dict[experiment_name.split(\"/\")[0]] = filtered_df\n",
    "        else:\n",
    "            print(f\"No runs found for experiment {experiment_name}.\")\n",
    "    else:\n",
    "        print(f\"Experiment {experiment_name} does not exist.\")\n",
    "\n",
    "\n",
    "efficient_estimator = data_dict['Synthetic_Efficient'].drop(columns=['run_id'])\n",
    "dr_estimator = data_dict['Synthetic_DR'].drop(columns=['run_id'])\n",
    "\n",
    "efficient_estimator['regret'] = pd.to_numeric(efficient_estimator['regret'], errors='coerce')\n",
    "dr_estimator['regret'] = pd.to_numeric(dr_estimator['regret'], errors='coerce')\n",
    "\n",
    "efficient_estimator['gamma'] = pd.to_numeric(efficient_estimator['gamma'], errors='coerce')\n",
    "dr_estimator['gamma'] = pd.to_numeric(dr_estimator['gamma'], errors='coerce')\n",
    "\n",
    "\n",
    "efficient_estimator['gamma_data'] = pd.to_numeric(efficient_estimator['gamma_data'], errors='coerce')\n",
    "dr_estimator['gamma_data'] = pd.to_numeric(dr_estimator['gamma_data'], errors='coerce')\n",
    "\n",
    "efficient_estimator['n_samples_train'] = pd.to_numeric(efficient_estimator['n_samples_train'], errors='coerce')\n",
    "dr_estimator['n_samples_train'] = pd.to_numeric(dr_estimator['n_samples_train'], errors='coerce')\n"
   ],
   "id": "21c7f12c9e232c1",
   "outputs": [],
   "execution_count": 391
  },
  {
   "metadata": {},
   "cell_type": "markdown",
   "source": "**Compute mean and standard deviation of regret over randomized policy** ",
   "id": "a13b662a740e4382"
  },
  {
   "metadata": {
    "ExecuteTime": {
     "end_time": "2025-01-30T17:50:46.387338Z",
     "start_time": "2025-01-30T17:50:46.381384Z"
    }
   },
   "cell_type": "code",
   "source": [
    "efficient_mean = efficient_estimator.groupby('gamma')['regret'].mean()\n",
    "efficient_std = efficient_estimator.groupby('gamma')['regret'].std()\n",
    "\n",
    "dr_mean = dr_estimator.groupby('gamma')['regret'].mean()\n",
    "dr_std = dr_estimator.groupby('gamma')['regret'].std()"
   ],
   "id": "2fe96a5c14bdcf8",
   "outputs": [],
   "execution_count": 392
  },
  {
   "metadata": {},
   "cell_type": "markdown",
   "source": "**Plot the results**",
   "id": "14460bd2b80d04a7"
  },
  {
   "metadata": {
    "ExecuteTime": {
     "end_time": "2025-01-30T17:52:59.840562Z",
     "start_time": "2025-01-30T17:52:59.509645Z"
    }
   },
   "cell_type": "code",
   "source": [
    "import pandas as pd\n",
    "import numpy as np\n",
    "import seaborn as sns\n",
    "import matplotlib.pyplot as plt\n",
    "\n",
    "# Create a DataFrame to store all data for plotting\n",
    "df = pd.DataFrame({\n",
    "    'Gamma': efficient_mean.index,\n",
    "    'Efficient_Mean': efficient_mean.values,\n",
    "    'Efficient_Std': efficient_std.values,\n",
    "    'DR_Mean': np.asarray(np.stack([dr_mean.values] * 21, axis=0).tolist())[:, 0],\n",
    "    'DR_Std': np.asarray(np.stack([dr_std.values] * 21, axis=0).tolist())[:, 0]\n",
    "})\n",
    "\n",
    "# Filter data for Gamma = 1 to 16 and 100\n",
    "filtered_df = df[(df['Gamma'] <= 16) | (df['Gamma'] == 100)]\n",
    "\n",
    "# Prepare data for plotting\n",
    "efficient = filtered_df[['Gamma', 'Efficient_Mean', 'Efficient_Std']].rename(\n",
    "    columns={'Efficient_Mean': 'Mean', 'Efficient_Std': 'Std'}\n",
    ")\n",
    "efficient['Model'] = 'Efficient + sharp estimator (ours)'\n",
    "efficient['Std'] = efficient['Std'] / np.sqrt(10)  # Standard error adjustment\n",
    "\n",
    "# Prepare DR data for plotting\n",
    "dr = filtered_df[['Gamma', 'DR_Mean', 'DR_Std']].rename(\n",
    "    columns={'DR_Mean': 'Mean', 'DR_Std': 'Std'}\n",
    ")\n",
    "dr['Model'] = 'DR estimator (biased)'\n",
    "\n",
    "# Combine both data for plotting\n",
    "plot_data = pd.concat([efficient, dr])\n",
    "\n",
    "# Add a placeholder for Gamma values with a blank space between 16 and 100\n",
    "x_labels = list(range(1, 17)) + [''] + [100]  # Explicit x-labels with a blank space\n",
    "x_labels = [str(x) for x in x_labels]  # Convert all labels to strings for consistency\n",
    "\n",
    "plot_data['Gamma'] = plot_data['Gamma'].astype(str)  # Ensure Gamma is a string\n",
    "\n",
    "# Create a categorical column for proper ordering, including the blank space\n",
    "plot_data['Gamma'] = pd.Categorical(\n",
    "    plot_data['Gamma'], categories=x_labels, ordered=True\n",
    ")\n",
    "\n",
    "# Seaborn color palette\n",
    "palette = sns.color_palette(\"Set1\", n_colors=4)\n",
    "\n",
    "# Create the plot\n",
    "plt.figure(figsize=(6, 4))\n",
    "sns.barplot(\n",
    "    data=plot_data[plot_data['Model'] == 'Efficient + sharp estimator (ours)'],\n",
    "    x='Gamma',\n",
    "    y='Mean',\n",
    "    color=palette[1],\n",
    "    errorbar=None,\n",
    "    label='Efficient + sharp estimator (ours)'\n",
    ")\n",
    "\n",
    "# Add error bars for Efficient estimator\n",
    "# Align error bars with the bar positions\n",
    "x_positions = [x_labels.index(gamma) for gamma in plot_data[plot_data['Model'] == 'Efficient + sharp estimator (ours)']['Gamma']]\n",
    "y_values = plot_data[plot_data['Model'] == 'Efficient + sharp estimator (ours)']['Mean']\n",
    "y_errors = plot_data[plot_data['Model'] == 'Efficient + sharp estimator (ours)']['Std']\n",
    "\n",
    "plt.errorbar(\n",
    "    x=x_positions,\n",
    "    y=y_values,\n",
    "    yerr=y_errors,\n",
    "    fmt='none',\n",
    "    c='black',\n",
    "    capsize=3,\n",
    "    label=None\n",
    ")\n",
    "\n",
    "# Add DR estimator line plot\n",
    "sns.lineplot(\n",
    "    data=plot_data[plot_data['Model'] == 'DR estimator (biased)'],\n",
    "    x='Gamma',\n",
    "    y='Mean',\n",
    "    color=palette[3],\n",
    "    marker='o',\n",
    "    label='Standard DR estimator (biased)'\n",
    ")\n",
    "\n",
    "# Add a vertical line at Gamma = 7\n",
    "plt.axvline(x=x_labels.index('7'), color='red', linestyle='--', linewidth=2)\n",
    "\n",
    "# Customize ticks for Gamma\n",
    "plt.xticks(\n",
    "    ticks=range(len(x_labels)),\n",
    "    labels=x_labels\n",
    ")\n",
    "\n",
    "# Customize ticks for Gamma\n",
    "# Set ticks only for specific Gamma values\n",
    "desired_ticks = ['1', '3', '5', '7', '9', '11', '13', '15', '100']\n",
    "plt.xticks(\n",
    "    ticks=[x_labels.index(gamma) for gamma in desired_ticks],\n",
    "    labels=desired_ticks\n",
    ")\n",
    "\n",
    "# Adjust margins and labels\n",
    "plt.ylim(-1.2, 0)\n",
    "plt.xlim(-0.5, 17.5)\n",
    "plt.xlabel('Sensitivity parameter Г in the model', fontsize=12)\n",
    "plt.ylabel('Regret over randomized policy', fontsize=12)\n",
    "plt.legend(loc='lower right', frameon=True, fontsize=11.3)\n",
    "plt.tight_layout()\n",
    "\n",
    "# Show the plot\n",
    "plt.show()\n"
   ],
   "id": "29db75960cab8e5",
   "outputs": [
    {
     "data": {
      "text/plain": [
       "<Figure size 600x400 with 1 Axes>"
      ],
      "image/png": "[encoded data removed]"
     },
     "metadata": {},
     "output_type": "display_data"
    }
   ],
   "execution_count": 397
  }
 ],
 "metadata": {
  "kernelspec": {
   "display_name": "Python 3",
   "language": "python",
   "name": "python3"
  },
  "language_info": {
   "codemirror_mode": {
    "name": "ipython",
    "version": 2
   },
   "file_extension": ".py",
   "mimetype": "text/x-python",
   "name": "python",
   "nbconvert_exporter": "python",
   "pygments_lexer": "ipython2",
   "version": "2.7.6"
  }
 },
 "nbformat": 4,
 "nbformat_minor": 5
}
