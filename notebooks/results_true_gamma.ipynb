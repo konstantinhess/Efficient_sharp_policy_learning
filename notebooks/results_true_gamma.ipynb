{
 "cells": [
  {
   "metadata": {},
   "cell_type": "markdown",
   "source": "**Results for true gamma experiments**",
   "id": "8197e81ec4eebfbd"
  },
  {
   "metadata": {
    "ExecuteTime": {
     "end_time": "2025-01-30T17:51:28.394171Z",
     "start_time": "2025-01-30T17:51:28.387497Z"
    }
   },
   "cell_type": "code",
   "source": [
    "import mlflow\n",
    "from mlflow.tracking import MlflowClient\n",
    "import pandas as pd\n",
    "import numpy as np\n",
    "import seaborn as sns\n",
    "import matplotlib.pyplot as plt"
   ],
   "id": "86fca06ed59e5226",
   "outputs": [],
   "execution_count": 231
  },
  {
   "metadata": {
    "ExecuteTime": {
     "end_time": "2025-01-30T17:51:29.188865Z",
     "start_time": "2025-01-30T17:51:29.112916Z"
    }
   },
   "cell_type": "code",
   "source": [
    "mlflow.set_tracking_uri('http://localhost:3336')\n",
    "client = MlflowClient()\n",
    "\n",
    "model_names = ['Efficient','Baseline_Minimax', 'DR', 'IPW']\n",
    "experiment_names = ['Synthetic_'+ model_name for model_name in model_names]\n",
    "experiments = {exp.name: exp.experiment_id for exp in client.search_experiments()}"
   ],
   "id": "81e56958d678d46d",
   "outputs": [],
   "execution_count": 232
  },
  {
   "metadata": {
    "ExecuteTime": {
     "end_time": "2025-01-30T17:51:33.549046Z",
     "start_time": "2025-01-30T17:51:30.453787Z"
    }
   },
   "cell_type": "code",
   "source": [
    "metric_names = ['regret']\n",
    "param_names = ['global_seed', 'gamma_data', 'n_samples_train']\n",
    "data_dict = {}\n",
    "\n",
    "for experiment_name in experiment_names:\n",
    "    if experiment_name in experiments:\n",
    "        experiment_id = experiments[experiment_name]\n",
    "        # Get all runs for the experiment\n",
    "        runs = client.search_runs(experiment_ids=[experiment_id])\n",
    "        # Extract metrics and parameters\n",
    "        runs_data = [\n",
    "            {\n",
    "                **run.data.metrics,\n",
    "                **run.data.params,\n",
    "                'run_id': run.info.run_id\n",
    "            }\n",
    "            for run in runs\n",
    "        ]\n",
    "        combined_df = pd.DataFrame(runs_data)\n",
    "        \n",
    "        if not combined_df.empty:\n",
    "            # Filter the DataFrame to only include the desired metrics and parameters\n",
    "            columns_to_include = ['run_id'] + metric_names + param_names\n",
    "            filtered_df = combined_df[columns_to_include]\n",
    "            data_dict[experiment_name.split(\"/\")[0]] = filtered_df\n",
    "        else:\n",
    "            print(f\"No runs found for experiment {experiment_name}.\")\n",
    "    else:\n",
    "        print(f\"Experiment {experiment_name} does not exist.\")\n",
    "\n",
    "efficient_estimator = data_dict['Synthetic_Efficient'].drop(columns=['run_id'])\n",
    "baseline_estimator = data_dict['Synthetic_Baseline_Minimax'].drop(columns=['run_id'])\n",
    "dr_estimator = data_dict['Synthetic_DR'].drop(columns=['run_id'])\n",
    "ipw_estimator = data_dict['Synthetic_IPW'].drop(columns=['run_id'])\n",
    "\n",
    "efficient_estimator['n_samples_train'] = pd.to_numeric(efficient_estimator['n_samples_train'], errors='coerce')\n",
    "baseline_estimator['n_samples_train'] = pd.to_numeric(baseline_estimator['n_samples_train'], errors='coerce')\n",
    "dr_estimator['n_samples_train'] = pd.to_numeric(dr_estimator['n_samples_train'], errors='coerce')\n",
    "ipw_estimator['n_samples_train'] = pd.to_numeric(ipw_estimator['n_samples_train'], errors='coerce')\n",
    "\n",
    "efficient_estimator['regret'] = pd.to_numeric(efficient_estimator['regret'], errors='coerce')\n",
    "baseline_estimator['regret'] = pd.to_numeric(baseline_estimator['regret'], errors='coerce')\n",
    "dr_estimator['regret'] = pd.to_numeric(dr_estimator['regret'], errors='coerce')\n",
    "ipw_estimator['regret'] = pd.to_numeric(ipw_estimator['regret'], errors='coerce')\n",
    "\n",
    "efficient_estimator['gamma'] = pd.to_numeric(efficient_estimator['gamma_data'], errors='coerce')\n",
    "baseline_estimator['gamma'] = pd.to_numeric(baseline_estimator['gamma_data'], errors='coerce')\n",
    "dr_estimator['gamma'] = pd.to_numeric(dr_estimator['gamma_data'], errors='coerce')\n",
    "ipw_estimator['gamma'] = pd.to_numeric(ipw_estimator['gamma_data'], errors='coerce')"
   ],
   "id": "21c7f12c9e232c1",
   "outputs": [],
   "execution_count": 233
  },
  {
   "metadata": {},
   "cell_type": "markdown",
   "source": "**Compute mean and standard deviation of regret over randomized policy** ",
   "id": "a13b662a740e4382"
  },
  {
   "metadata": {
    "ExecuteTime": {
     "end_time": "2025-01-30T17:51:34.287772Z",
     "start_time": "2025-01-30T17:51:34.279285Z"
    }
   },
   "cell_type": "code",
   "source": [
    "\n",
    "efficient_mean = efficient_estimator.groupby('gamma')['regret'].mean()\n",
    "efficient_std = efficient_estimator.groupby('gamma')['regret'].std()\n",
    "\n",
    "baseline_mean = baseline_estimator.groupby('gamma')['regret'].mean()\n",
    "baseline_std = baseline_estimator.groupby('gamma')['regret'].std()\n",
    "\n",
    "dr_mean = dr_estimator.groupby('gamma')['regret'].mean()\n",
    "dr_std = dr_estimator.groupby('gamma')['regret'].std()\n",
    "\n",
    "ipw_mean = ipw_estimator.groupby('gamma')['regret'].mean()\n",
    "ipw_std = ipw_estimator.groupby('gamma')['regret'].std()\n"
   ],
   "id": "2fe96a5c14bdcf8",
   "outputs": [],
   "execution_count": 234
  },
  {
   "metadata": {
    "ExecuteTime": {
     "end_time": "2025-01-30T17:51:45.907341Z",
     "start_time": "2025-01-30T17:51:45.893065Z"
    }
   },
   "cell_type": "code",
   "source": [
    "\n",
    "combined = pd.DataFrame({\n",
    "    'baseline_mean': baseline_mean,\n",
    "    'dr_mean': dr_mean,\n",
    "    'ipw_mean': ipw_mean,\n",
    "    'efficient_mean': efficient_mean\n",
    "})\n",
    "\n",
    "# Find the minimum regret across baseline_mean, dr_mean, and ipw_mean for each gamma\n",
    "combined['min_regret'] = combined[['baseline_mean', 'dr_mean', 'ipw_mean']].min(axis=1)\n",
    "\n",
    "# Calculate relative improvement of efficient_mean over the minimum regret\n",
    "combined['relative_improvement'] = (combined['min_regret'] - combined['efficient_mean']) / combined['min_regret']\n",
    "\n",
    "# Select only the relevant columns for output\n",
    "result = combined[['relative_improvement']]\n",
    "print(result)\n",
    "\n",
    "\n",
    "# absolute improvement\n",
    "combined['absolute_improvement'] = (combined['min_regret'] - combined['efficient_mean'])\n",
    "\n",
    "# Select only the relevant columns for output\n",
    "result = combined[['absolute_improvement']]\n",
    "print(result)\n"
   ],
   "id": "2713b4ec5ed222f2",
   "outputs": [
    {
     "name": "stdout",
     "output_type": "stream",
     "text": [
      "       relative_improvement\n",
      "gamma                      \n",
      "1                  0.055312\n",
      "2                  0.140889\n",
      "3                  0.058375\n",
      "4                 -0.410613\n",
      "5                 -0.629454\n",
      "6                 -1.230601\n",
      "7                 -1.796844\n",
      "8                 -2.007832\n",
      "9                 -1.868140\n",
      "10                -3.080515\n",
      "11                -4.054472\n",
      "12                -3.136798\n",
      "13                -3.375028\n",
      "14                -4.215271\n",
      "15                -4.656638\n",
      "16                -2.598421\n",
      "       absolute_improvement\n",
      "gamma                      \n",
      "1                 -0.070960\n",
      "2                 -0.184353\n",
      "3                 -0.067273\n",
      "4                  0.290858\n",
      "5                  0.370840\n",
      "6                  0.492651\n",
      "7                  0.493304\n",
      "8                  0.442144\n",
      "9                  0.465468\n",
      "10                 0.484720\n",
      "11                 0.577207\n",
      "12                 0.437396\n",
      "13                 0.326474\n",
      "14                 0.403582\n",
      "15                 0.407692\n",
      "16                 0.218276\n"
     ]
    }
   ],
   "execution_count": 235
  }
 ],
 "metadata": {
  "kernelspec": {
   "display_name": "Python 3",
   "language": "python",
   "name": "python3"
  },
  "language_info": {
   "codemirror_mode": {
    "name": "ipython",
    "version": 2
   },
   "file_extension": ".py",
   "mimetype": "text/x-python",
   "name": "python",
   "nbconvert_exporter": "python",
   "pygments_lexer": "ipython2",
   "version": "2.7.6"
  }
 },
 "nbformat": 4,
 "nbformat_minor": 5
}
