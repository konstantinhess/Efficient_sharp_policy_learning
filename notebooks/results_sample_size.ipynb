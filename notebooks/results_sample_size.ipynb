{
 "cells": [
  {
   "metadata": {},
   "cell_type": "markdown",
   "source": "**Results for sample size experiments**",
   "id": "8197e81ec4eebfbd"
  },
  {
   "metadata": {
    "ExecuteTime": {
     "end_time": "2025-01-30T17:51:06.243837Z",
     "start_time": "2025-01-30T17:51:06.238824Z"
    }
   },
   "cell_type": "code",
   "source": [
    "import mlflow\n",
    "from mlflow.tracking import MlflowClient\n",
    "import pandas as pd\n",
    "import numpy as np\n",
    "import seaborn as sns\n",
    "import matplotlib.pyplot as plt"
   ],
   "id": "86fca06ed59e5226",
   "outputs": [],
   "execution_count": 262
  },
  {
   "metadata": {
    "ExecuteTime": {
     "end_time": "2025-01-30T17:51:07.043638Z",
     "start_time": "2025-01-30T17:51:06.964678Z"
    }
   },
   "cell_type": "code",
   "source": [
    "mlflow.set_tracking_uri('http://localhost:3336')\n",
    "client = MlflowClient()\n",
    "\n",
    "model_names = ['Efficient', 'Plugin']\n",
    "experiment_names = ['Synthetic_'+ model_name for model_name in model_names]\n",
    "experiments = {exp.name: exp.experiment_id for exp in client.search_experiments()}"
   ],
   "id": "81e56958d678d46d",
   "outputs": [],
   "execution_count": 263
  },
  {
   "metadata": {
    "ExecuteTime": {
     "end_time": "2025-01-30T17:51:13.353883Z",
     "start_time": "2025-01-30T17:51:08.340143Z"
    }
   },
   "cell_type": "code",
   "source": [
    "metric_names = ['regret']\n",
    "param_names = ['global_seed', 'gamma', 'gamma_data', 'n_samples_train']\n",
    "data_dict = {}\n",
    "\n",
    "for experiment_name in experiment_names:\n",
    "    if experiment_name in experiments:\n",
    "        experiment_id = experiments[experiment_name]\n",
    "        # Get all runs for the experiment\n",
    "        runs = client.search_runs(experiment_ids=[experiment_id])\n",
    "        # Extract metrics and parameters\n",
    "        runs_data = [\n",
    "            {\n",
    "                **run.data.metrics,\n",
    "                **run.data.params,\n",
    "                'run_id': run.info.run_id\n",
    "            }\n",
    "            for run in runs\n",
    "        ]\n",
    "        combined_df = pd.DataFrame(runs_data)\n",
    "        \n",
    "        if not combined_df.empty:\n",
    "            # Filter the DataFrame to only include the desired metrics and parameters\n",
    "            columns_to_include = ['run_id'] + metric_names + param_names\n",
    "            filtered_df = combined_df[columns_to_include]\n",
    "            data_dict[experiment_name.split(\"/\")[0]] = filtered_df\n",
    "        else:\n",
    "            print(f\"No runs found for experiment {experiment_name}.\")\n",
    "    else:\n",
    "        print(f\"Experiment {experiment_name} does not exist.\")\n",
    "\n",
    "\n",
    "efficient_estimator = data_dict['Synthetic_Efficient'].drop(columns=['run_id'])\n",
    "plugin_estimator = data_dict['Synthetic_Plugin'].drop(columns=['run_id'])\n",
    "\n",
    "efficient_estimator['regret'] = pd.to_numeric(efficient_estimator['regret'], errors='coerce')\n",
    "plugin_estimator['regret'] = pd.to_numeric(plugin_estimator['regret'], errors='coerce')\n",
    "\n",
    "efficient_estimator['gamma'] = pd.to_numeric(efficient_estimator['gamma'], errors='coerce')\n",
    "plugin_estimator['gamma'] = pd.to_numeric(plugin_estimator['gamma'], errors='coerce')\n",
    "\n",
    "\n",
    "efficient_estimator['gamma_data'] = pd.to_numeric(efficient_estimator['gamma_data'], errors='coerce')\n",
    "plugin_estimator['gamma_data'] = pd.to_numeric(plugin_estimator['gamma_data'], errors='coerce')\n",
    "\n",
    "efficient_estimator['n_samples_train'] = pd.to_numeric(efficient_estimator['n_samples_train'], errors='coerce')\n",
    "plugin_estimator['n_samples_train'] = pd.to_numeric(plugin_estimator['n_samples_train'], errors='coerce')\n"
   ],
   "id": "b9283c2d0125c7db",
   "outputs": [],
   "execution_count": 264
  },
  {
   "metadata": {},
   "cell_type": "markdown",
   "source": "**Compute mean and standard deviation of regret over randomized policy** ",
   "id": "a6a5fd922d7d85b2"
  },
  {
   "metadata": {
    "ExecuteTime": {
     "end_time": "2025-01-30T17:51:13.362899Z",
     "start_time": "2025-01-30T17:51:13.354878Z"
    }
   },
   "cell_type": "code",
   "source": [
    "efficient_mean = efficient_estimator.groupby('n_samples_train')['regret'].mean()\n",
    "efficient_std = efficient_estimator.groupby('n_samples_train')['regret'].std()\n",
    "\n",
    "plugin_mean = plugin_estimator.groupby('n_samples_train')['regret'].mean()\n",
    "plugin_std = plugin_estimator.groupby('n_samples_train')['regret'].std()"
   ],
   "id": "8b0a51c4ea2ebf8",
   "outputs": [],
   "execution_count": 265
  },
  {
   "metadata": {},
   "cell_type": "markdown",
   "source": "**Plot the results**",
   "id": "ef60207c6af85d5a"
  },
  {
   "metadata": {
    "ExecuteTime": {
     "end_time": "2025-01-30T17:51:15.354369Z",
     "start_time": "2025-01-30T17:51:14.919521Z"
    }
   },
   "cell_type": "code",
   "source": [
    "import pandas as pd\n",
    "import numpy as np\n",
    "import seaborn as sns\n",
    "import matplotlib.pyplot as plt\n",
    "\n",
    "# Create a DataFrame to store all data for plotting\n",
    "df = pd.DataFrame({\n",
    "    'n_samples_train': efficient_mean.index,\n",
    "    'Plugin_Mean': plugin_mean.values,\n",
    "    'Plugin_Std': plugin_std.values,    \n",
    "    'Efficient_Mean': efficient_mean.values,\n",
    "    'Efficient_Std': efficient_std.values\n",
    "})\n",
    "\n",
    "# Prepare data for plotting\n",
    "plugin = df[['n_samples_train', 'Plugin_Mean', 'Plugin_Std']].rename(\n",
    "    columns={'Plugin_Mean': 'Mean', 'Plugin_Std': 'Std'}\n",
    ")\n",
    "plugin['Model'] = 'Plug-in sharp estimator (ours)'\n",
    "plugin['Std'] = plugin['Std'] / np.sqrt(10)  # Standard error adjustment\n",
    "\n",
    "\n",
    "efficient = df[['n_samples_train', 'Efficient_Mean', 'Efficient_Std']].rename(\n",
    "    columns={'Efficient_Mean': 'Mean', 'Efficient_Std': 'Std'}\n",
    ")\n",
    "efficient['Model'] = 'Efficient + sharp estimator (ours)'\n",
    "efficient['Std'] = efficient['Std'] / np.sqrt(10)  # Standard error adjustment\n",
    "\n",
    "\n",
    "# Combine both data for plotting\n",
    "plot_data = pd.concat([plugin, efficient])\n",
    "\n",
    "# Set up the Seaborn color palette\n",
    "palette = sns.color_palette(\"Set1\", n_colors=2)\n",
    "\n",
    "# Create the plot\n",
    "plt.figure(figsize=(6,5))\n",
    "barplot = sns.barplot(\n",
    "    data=plot_data,\n",
    "    x='n_samples_train',\n",
    "    y='Mean',\n",
    "    hue='Model',\n",
    "    palette=palette,\n",
    "    errorbar=None\n",
    ")\n",
    "\n",
    "# Add error bars\n",
    "for container, model in zip(barplot.containers, plot_data['Model'].unique()):\n",
    "    subset = plot_data[plot_data['Model'] == model]\n",
    "    x_positions = [bar.get_x() + bar.get_width() / 2 for bar in container]\n",
    "    plt.errorbar(\n",
    "        x=x_positions,\n",
    "        y=subset['Mean'],\n",
    "        yerr=subset['Std'],\n",
    "        fmt='none',\n",
    "        c='black',\n",
    "        capsize=5,\n",
    "        capthick=1.5,\n",
    "        elinewidth=1.5\n",
    "    )\n",
    "\n",
    "# Add labels and legend\n",
    "plt.xlim(-0.5, 3.5)\n",
    "plt.ylim(-1.23,0)\n",
    "plt.xlabel('Number of samples for training', fontsize=12)\n",
    "plt.ylabel('Regret over randomized policy', fontsize=12)\n",
    "plt.legend(loc='lower left', frameon=True, fontsize=11)\n",
    "plt.tight_layout()\n",
    "\n",
    "# Show the plot\n",
    "plt.show()\n"
   ],
   "id": "308a8f4dc583c4d7",
   "outputs": [
    {
     "data": {
      "text/plain": [
       "<Figure size 600x500 with 1 Axes>"
      ],
      "image/png": "[encoded data removed]"
     },
     "metadata": {},
     "output_type": "display_data"
    }
   ],
   "execution_count": 266
  }
 ],
 "metadata": {
  "kernelspec": {
   "display_name": "Python 3",
   "language": "python",
   "name": "python3"
  },
  "language_info": {
   "codemirror_mode": {
    "name": "ipython",
    "version": 2
   },
   "file_extension": ".py",
   "mimetype": "text/x-python",
   "name": "python",
   "nbconvert_exporter": "python",
   "pygments_lexer": "ipython2",
   "version": "2.7.6"
  }
 },
 "nbformat": 4,
 "nbformat_minor": 5
}
