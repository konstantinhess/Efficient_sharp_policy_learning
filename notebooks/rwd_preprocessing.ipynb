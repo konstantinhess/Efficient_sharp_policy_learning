{
 "cells": [
  {
   "cell_type": "code",
   "execution_count": null,
   "id": "initial_id",
   "metadata": {
    "collapsed": true
   },
   "outputs": [],
   "source": [
    "import pandas as pd\n",
    "import numpy as np\n",
    "\n",
    "# Load the dataset\n",
    "file_path = \"../data/stroke_data.csv\"\n",
    "df = pd.read_csv(file_path)\n",
    "# Standardize column names (strip spaces, make uppercase for consistency)\n",
    "df.columns = df.columns.str.strip().str.upper()\n",
    "\n",
    "# Select relevant columns\n",
    "selected_columns = [\n",
    "    \"TD\",  # Outcome: Time to death or discharge (continuous)\n",
    "    \"RXASP\",  # Treatment: Trial aspirin allocation (Y/N)\n",
    "    \"RXHEP\",  # Treatment: Trial heparin allocation (M/L/N)\n",
    "    \"AGE\",  # Covariate: Age in years\n",
    "    \"SEX\",  # Covariate: Gender\n",
    "    \"RDELAY\",  # Covariate: Delay to randomization\n",
    "    \"RCONSC\",  # Covariate: Conscious state\n",
    "    \"RSBP\",  # Covariate: Systolic blood pressure\n",
    "    \"RATRIAL\",  # Covariate: Atrial fibrillation (Y/N)\n",
    "    \"RDEF4\",  # Covariate: Dysphasia (Y/N/C)\n",
    "    \"STYPE\",  # Covariate: Stroke subtype\n",
    "]\n",
    "\n",
    "# Extract selected variables\n",
    "df_selected = df[selected_columns].copy()\n",
    "\n",
    "# Drop rows with any missing values\n",
    "df_selected = df_selected.dropna()\n",
    "\n",
    "# Convert categorical variables to category dtype\n",
    "df_selected[\"SEX\"] = df_selected[\"SEX\"].astype(\"category\")\n",
    "df_selected[\"RCONSC\"] = df_selected[\"RCONSC\"].astype(\"category\")\n",
    "df_selected[\"RATRIAL\"] = df_selected[\"RATRIAL\"].astype(\"category\")\n",
    "df_selected[\"RDEF4\"] = df_selected[\"RDEF4\"].astype(\"category\")\n",
    "df_selected[\"STYPE\"] = df_selected[\"STYPE\"].astype(\"category\")\n",
    "df_selected[\"RXASP\"] = df_selected[\"RXASP\"].astype(\"category\")\n",
    "df_selected[\"RXHEP\"] = df_selected[\"RXHEP\"].astype(\"category\")\n",
    "\n",
    "# Define treatment variable with four categories\n",
    "def categorize_treatment(row):\n",
    "    if row[\"RXASP\"] == \"Y\": # Aspirin # 25% probability\n",
    "        return 1  # Aspirin\n",
    "    elif row[\"RXHEP\"] == \"M\":\n",
    "        return 2  # Heparin Medium # 12.5% probability\n",
    "    elif row[\"RXHEP\"] == \"L\":\n",
    "        return 3  # Heparin Low # 12.5% probability\n",
    "    else:\n",
    "        return 0  # No treatment # 50% probability \n",
    "\n",
    "# Apply treatment categorization\n",
    "df_selected[\"TREATMENT\"] = df_selected.apply(categorize_treatment, axis=1)\n",
    "\n",
    "# One-hot encode treatment variable\n",
    "df_selected = pd.get_dummies(df_selected, columns=[\"TREATMENT\"], drop_first=False)\n",
    "df_selected.drop(columns=[\"RXASP\", \"RXHEP\"], inplace=True)\n",
    "\n",
    "# Save preprocessed dataset to a new CSV file\n",
    "preprocessed_file_path = \"../data/stroke_data_preprocessed.csv\"\n",
    "df_selected.to_csv(preprocessed_file_path, index=False)\n",
    "\n",
    "print(f\"Preprocessed dataset saved at: {preprocessed_file_path}\")"
   ]
  }
 ],
 "metadata": {
  "kernelspec": {
   "display_name": "Python 3",
   "language": "python",
   "name": "python3"
  },
  "language_info": {
   "codemirror_mode": {
    "name": "ipython",
    "version": 2
   },
   "file_extension": ".py",
   "mimetype": "text/x-python",
   "name": "python",
   "nbconvert_exporter": "python",
   "pygments_lexer": "ipython2",
   "version": "2.7.6"
  }
 },
 "nbformat": 4,
 "nbformat_minor": 5
}
